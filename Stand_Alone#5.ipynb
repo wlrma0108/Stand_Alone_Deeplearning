{
  "nbformat": 4,
  "nbformat_minor": 0,
  "metadata": {
    "colab": {
      "name": "Untitled2.ipynb",
      "provenance": [],
      "authorship_tag": "ABX9TyOGVdXIo+2jLNQkmLpAP621",
      "include_colab_link": true
    },
    "kernelspec": {
      "name": "python3",
      "display_name": "Python 3"
    },
    "language_info": {
      "name": "python"
    },
    "accelerator": "GPU",
    "widgets": {
      "application/vnd.jupyter.widget-state+json": {
        "f618d553a17f4f62b31f521bd5b727bc": {
          "model_module": "@jupyter-widgets/controls",
          "model_name": "HBoxModel",
          "model_module_version": "1.5.0",
          "state": {
            "_dom_classes": [],
            "_model_module": "@jupyter-widgets/controls",
            "_model_module_version": "1.5.0",
            "_model_name": "HBoxModel",
            "_view_count": null,
            "_view_module": "@jupyter-widgets/controls",
            "_view_module_version": "1.5.0",
            "_view_name": "HBoxView",
            "box_style": "",
            "children": [
              "IPY_MODEL_18ccce11bcc645c9b5ec068588dcf409",
              "IPY_MODEL_dbb387cd8271457285249e2766ae000d",
              "IPY_MODEL_0d9e062cba1a4275a2c6c4380597cc87"
            ],
            "layout": "IPY_MODEL_903cc327b5654b43ae2bfb53d43d9cbc"
          }
        },
        "18ccce11bcc645c9b5ec068588dcf409": {
          "model_module": "@jupyter-widgets/controls",
          "model_name": "HTMLModel",
          "model_module_version": "1.5.0",
          "state": {
            "_dom_classes": [],
            "_model_module": "@jupyter-widgets/controls",
            "_model_module_version": "1.5.0",
            "_model_name": "HTMLModel",
            "_view_count": null,
            "_view_module": "@jupyter-widgets/controls",
            "_view_module_version": "1.5.0",
            "_view_name": "HTMLView",
            "description": "",
            "description_tooltip": null,
            "layout": "IPY_MODEL_bea9af0599b244459c2e7c25732740ab",
            "placeholder": "​",
            "style": "IPY_MODEL_05e6caf13f2442bb924bc54059954963",
            "value": ""
          }
        },
        "dbb387cd8271457285249e2766ae000d": {
          "model_module": "@jupyter-widgets/controls",
          "model_name": "FloatProgressModel",
          "model_module_version": "1.5.0",
          "state": {
            "_dom_classes": [],
            "_model_module": "@jupyter-widgets/controls",
            "_model_module_version": "1.5.0",
            "_model_name": "FloatProgressModel",
            "_view_count": null,
            "_view_module": "@jupyter-widgets/controls",
            "_view_module_version": "1.5.0",
            "_view_name": "ProgressView",
            "bar_style": "success",
            "description": "",
            "description_tooltip": null,
            "layout": "IPY_MODEL_ee646aee06c94b4782cb6671af47df0f",
            "max": 170498071,
            "min": 0,
            "orientation": "horizontal",
            "style": "IPY_MODEL_3bb195d705a849c6ad1cef99dc6e19cb",
            "value": 170498071
          }
        },
        "0d9e062cba1a4275a2c6c4380597cc87": {
          "model_module": "@jupyter-widgets/controls",
          "model_name": "HTMLModel",
          "model_module_version": "1.5.0",
          "state": {
            "_dom_classes": [],
            "_model_module": "@jupyter-widgets/controls",
            "_model_module_version": "1.5.0",
            "_model_name": "HTMLModel",
            "_view_count": null,
            "_view_module": "@jupyter-widgets/controls",
            "_view_module_version": "1.5.0",
            "_view_name": "HTMLView",
            "description": "",
            "description_tooltip": null,
            "layout": "IPY_MODEL_70d4a9da9a85436f9eab90f752e1b9b7",
            "placeholder": "​",
            "style": "IPY_MODEL_931154ce81ae45db956a65b3b9a5c660",
            "value": " 170499072/? [00:03&lt;00:00, 36183893.42it/s]"
          }
        },
        "903cc327b5654b43ae2bfb53d43d9cbc": {
          "model_module": "@jupyter-widgets/base",
          "model_name": "LayoutModel",
          "model_module_version": "1.2.0",
          "state": {
            "_model_module": "@jupyter-widgets/base",
            "_model_module_version": "1.2.0",
            "_model_name": "LayoutModel",
            "_view_count": null,
            "_view_module": "@jupyter-widgets/base",
            "_view_module_version": "1.2.0",
            "_view_name": "LayoutView",
            "align_content": null,
            "align_items": null,
            "align_self": null,
            "border": null,
            "bottom": null,
            "display": null,
            "flex": null,
            "flex_flow": null,
            "grid_area": null,
            "grid_auto_columns": null,
            "grid_auto_flow": null,
            "grid_auto_rows": null,
            "grid_column": null,
            "grid_gap": null,
            "grid_row": null,
            "grid_template_areas": null,
            "grid_template_columns": null,
            "grid_template_rows": null,
            "height": null,
            "justify_content": null,
            "justify_items": null,
            "left": null,
            "margin": null,
            "max_height": null,
            "max_width": null,
            "min_height": null,
            "min_width": null,
            "object_fit": null,
            "object_position": null,
            "order": null,
            "overflow": null,
            "overflow_x": null,
            "overflow_y": null,
            "padding": null,
            "right": null,
            "top": null,
            "visibility": null,
            "width": null
          }
        },
        "bea9af0599b244459c2e7c25732740ab": {
          "model_module": "@jupyter-widgets/base",
          "model_name": "LayoutModel",
          "model_module_version": "1.2.0",
          "state": {
            "_model_module": "@jupyter-widgets/base",
            "_model_module_version": "1.2.0",
            "_model_name": "LayoutModel",
            "_view_count": null,
            "_view_module": "@jupyter-widgets/base",
            "_view_module_version": "1.2.0",
            "_view_name": "LayoutView",
            "align_content": null,
            "align_items": null,
            "align_self": null,
            "border": null,
            "bottom": null,
            "display": null,
            "flex": null,
            "flex_flow": null,
            "grid_area": null,
            "grid_auto_columns": null,
            "grid_auto_flow": null,
            "grid_auto_rows": null,
            "grid_column": null,
            "grid_gap": null,
            "grid_row": null,
            "grid_template_areas": null,
            "grid_template_columns": null,
            "grid_template_rows": null,
            "height": null,
            "justify_content": null,
            "justify_items": null,
            "left": null,
            "margin": null,
            "max_height": null,
            "max_width": null,
            "min_height": null,
            "min_width": null,
            "object_fit": null,
            "object_position": null,
            "order": null,
            "overflow": null,
            "overflow_x": null,
            "overflow_y": null,
            "padding": null,
            "right": null,
            "top": null,
            "visibility": null,
            "width": null
          }
        },
        "05e6caf13f2442bb924bc54059954963": {
          "model_module": "@jupyter-widgets/controls",
          "model_name": "DescriptionStyleModel",
          "model_module_version": "1.5.0",
          "state": {
            "_model_module": "@jupyter-widgets/controls",
            "_model_module_version": "1.5.0",
            "_model_name": "DescriptionStyleModel",
            "_view_count": null,
            "_view_module": "@jupyter-widgets/base",
            "_view_module_version": "1.2.0",
            "_view_name": "StyleView",
            "description_width": ""
          }
        },
        "ee646aee06c94b4782cb6671af47df0f": {
          "model_module": "@jupyter-widgets/base",
          "model_name": "LayoutModel",
          "model_module_version": "1.2.0",
          "state": {
            "_model_module": "@jupyter-widgets/base",
            "_model_module_version": "1.2.0",
            "_model_name": "LayoutModel",
            "_view_count": null,
            "_view_module": "@jupyter-widgets/base",
            "_view_module_version": "1.2.0",
            "_view_name": "LayoutView",
            "align_content": null,
            "align_items": null,
            "align_self": null,
            "border": null,
            "bottom": null,
            "display": null,
            "flex": null,
            "flex_flow": null,
            "grid_area": null,
            "grid_auto_columns": null,
            "grid_auto_flow": null,
            "grid_auto_rows": null,
            "grid_column": null,
            "grid_gap": null,
            "grid_row": null,
            "grid_template_areas": null,
            "grid_template_columns": null,
            "grid_template_rows": null,
            "height": null,
            "justify_content": null,
            "justify_items": null,
            "left": null,
            "margin": null,
            "max_height": null,
            "max_width": null,
            "min_height": null,
            "min_width": null,
            "object_fit": null,
            "object_position": null,
            "order": null,
            "overflow": null,
            "overflow_x": null,
            "overflow_y": null,
            "padding": null,
            "right": null,
            "top": null,
            "visibility": null,
            "width": null
          }
        },
        "3bb195d705a849c6ad1cef99dc6e19cb": {
          "model_module": "@jupyter-widgets/controls",
          "model_name": "ProgressStyleModel",
          "model_module_version": "1.5.0",
          "state": {
            "_model_module": "@jupyter-widgets/controls",
            "_model_module_version": "1.5.0",
            "_model_name": "ProgressStyleModel",
            "_view_count": null,
            "_view_module": "@jupyter-widgets/base",
            "_view_module_version": "1.2.0",
            "_view_name": "StyleView",
            "bar_color": null,
            "description_width": ""
          }
        },
        "70d4a9da9a85436f9eab90f752e1b9b7": {
          "model_module": "@jupyter-widgets/base",
          "model_name": "LayoutModel",
          "model_module_version": "1.2.0",
          "state": {
            "_model_module": "@jupyter-widgets/base",
            "_model_module_version": "1.2.0",
            "_model_name": "LayoutModel",
            "_view_count": null,
            "_view_module": "@jupyter-widgets/base",
            "_view_module_version": "1.2.0",
            "_view_name": "LayoutView",
            "align_content": null,
            "align_items": null,
            "align_self": null,
            "border": null,
            "bottom": null,
            "display": null,
            "flex": null,
            "flex_flow": null,
            "grid_area": null,
            "grid_auto_columns": null,
            "grid_auto_flow": null,
            "grid_auto_rows": null,
            "grid_column": null,
            "grid_gap": null,
            "grid_row": null,
            "grid_template_areas": null,
            "grid_template_columns": null,
            "grid_template_rows": null,
            "height": null,
            "justify_content": null,
            "justify_items": null,
            "left": null,
            "margin": null,
            "max_height": null,
            "max_width": null,
            "min_height": null,
            "min_width": null,
            "object_fit": null,
            "object_position": null,
            "order": null,
            "overflow": null,
            "overflow_x": null,
            "overflow_y": null,
            "padding": null,
            "right": null,
            "top": null,
            "visibility": null,
            "width": null
          }
        },
        "931154ce81ae45db956a65b3b9a5c660": {
          "model_module": "@jupyter-widgets/controls",
          "model_name": "DescriptionStyleModel",
          "model_module_version": "1.5.0",
          "state": {
            "_model_module": "@jupyter-widgets/controls",
            "_model_module_version": "1.5.0",
            "_model_name": "DescriptionStyleModel",
            "_view_count": null,
            "_view_module": "@jupyter-widgets/base",
            "_view_module_version": "1.2.0",
            "_view_name": "StyleView",
            "description_width": ""
          }
        }
      }
    }
  },
  "cells": [
    {
      "cell_type": "markdown",
      "metadata": {
        "id": "view-in-github",
        "colab_type": "text"
      },
      "source": [
        "<a href=\"https://colab.research.google.com/github/wlrma0108/Stand_Alone_Deeplearning/blob/main/Stand_Alone%235.ipynb\" target=\"_parent\"><img src=\"https://colab.research.google.com/assets/colab-badge.svg\" alt=\"Open In Colab\"/></a>"
      ]
    },
    {
      "cell_type": "code",
      "source": [
        "!pip3 install torch"
      ],
      "metadata": {
        "colab": {
          "base_uri": "https://localhost:8080/"
        },
        "id": "eu02q2xFdUYY",
        "outputId": "4cccbf53-c4e0-4039-d77c-9ee170e37a1d"
      },
      "execution_count": 2,
      "outputs": [
        {
          "output_type": "stream",
          "name": "stdout",
          "text": [
            "Requirement already satisfied: torch in /usr/local/lib/python3.7/dist-packages (1.10.0+cu111)\n",
            "Requirement already satisfied: typing-extensions in /usr/local/lib/python3.7/dist-packages (from torch) (3.10.0.2)\n"
          ]
        }
      ]
    },
    {
      "cell_type": "code",
      "source": [
        "import torch\n",
        "import torchvision\n",
        "import torchvision.transforms as transforms\n",
        "import torch.nn as nn\n",
        "import torch.optim as optim\n",
        "import argparse\n",
        "import numpy as np\n",
        "import time"
      ],
      "metadata": {
        "id": "2QJA96goa4sB"
      },
      "execution_count": 3,
      "outputs": []
    },
    {
      "cell_type": "code",
      "source": [
        "transform=transforms.Compose([transforms.ToTensor(),transforms.Normalize((0.5,0.5,0.5),(0.5,0.5,0.5))])\n",
        "trainset=torchvision.datasets.CIFAR10(root='./data',train=True,download=True, transform=transform)\n",
        "trainset,valset = torch.utils.data.random_split(trainset, [40000,10000])\n",
        "testset= torchvision.datasets.CIFAR10(root='./data',train=False, transform=transform)\n",
        "partition = {'train':trainset, 'val':valset,'test': testset}"
      ],
      "metadata": {
        "colab": {
          "base_uri": "https://localhost:8080/",
          "height": 86,
          "referenced_widgets": [
            "f618d553a17f4f62b31f521bd5b727bc",
            "18ccce11bcc645c9b5ec068588dcf409",
            "dbb387cd8271457285249e2766ae000d",
            "0d9e062cba1a4275a2c6c4380597cc87",
            "903cc327b5654b43ae2bfb53d43d9cbc",
            "bea9af0599b244459c2e7c25732740ab",
            "05e6caf13f2442bb924bc54059954963",
            "ee646aee06c94b4782cb6671af47df0f",
            "3bb195d705a849c6ad1cef99dc6e19cb",
            "70d4a9da9a85436f9eab90f752e1b9b7",
            "931154ce81ae45db956a65b3b9a5c660"
          ]
        },
        "id": "U-hwBtoPa5xm",
        "outputId": "6e1a7eb9-bffa-460d-a385-06625c352041"
      },
      "execution_count": 4,
      "outputs": [
        {
          "output_type": "stream",
          "name": "stdout",
          "text": [
            "Downloading https://www.cs.toronto.edu/~kriz/cifar-10-python.tar.gz to ./data/cifar-10-python.tar.gz\n"
          ]
        },
        {
          "output_type": "display_data",
          "data": {
            "text/plain": [
              "  0%|          | 0/170498071 [00:00<?, ?it/s]"
            ],
            "application/vnd.jupyter.widget-view+json": {
              "version_major": 2,
              "version_minor": 0,
              "model_id": "f618d553a17f4f62b31f521bd5b727bc"
            }
          },
          "metadata": {}
        },
        {
          "output_type": "stream",
          "name": "stdout",
          "text": [
            "Extracting ./data/cifar-10-python.tar.gz to ./data\n"
          ]
        }
      ]
    },
    {
      "cell_type": "code",
      "source": [
        "class MLP(nn.Module):\n",
        "  def __init__(self,in_dim,out_dim,hid_dim,n_layer,act,dropout,use_bn,use_xavier):\n",
        "    super(MLP,self).__init__()\n",
        "    self.in_dim = in_dim\n",
        "    self.out_dim=out_dim\n",
        "    self.hid_dim=hid_dim\n",
        "    self.n_layer=n_layer\n",
        "    self.act=act\n",
        "    self.dropout=dropout\n",
        "    self.use_bn = use_bn\n",
        "    self.use_xavier=use_xavier\n",
        "  \n",
        "    self.fc1 =nn.Linear(self.in_dim, self.hid_dim)\n",
        "    self.linears=nn.ModuleList()\n",
        "    self.bns=nn.ModuleList()\n",
        "    for i in range(self.n_layer-1):\n",
        "      self.linears.append(nn.Linear(self.hid_dim,self.hid_dim))\n",
        "      if self.use_bn:\n",
        "        self.bns.append(nn.BatchNorm1d(self.hid_dim))\n",
        "    \n",
        "    self.fc2 =nn.Linear(self.hid_dim, self.out_dim)\n",
        "\n",
        "    if self.act =='relu':\n",
        "      self.act = nn.ReLU()\n",
        "    elif self.act =='tanh':\n",
        "      self.act=nn.Tanh()\n",
        "    elif self.act=='sigmoid':\n",
        "      self.act=nn.Sigmoid()\n",
        "    else:\n",
        "      raise ValueError('no valid activation function selected!')\n",
        "\n",
        "    self.dropout==nn.Dropout(self.dropout)\n",
        "    if self.use_xavier:\n",
        "      self.xavier_init()\n",
        "  def forward(self, x):\n",
        "    x= self.act(self.fc1(x))\n",
        "    for i in range(len(self.linears)):\n",
        "      x=self.act(self.linears[i](x))\n",
        "      x=self.bns[i](x)\n",
        "      x=self.dropout(x)\n",
        "    x=self.fc2(x)\n",
        "    return x\n",
        "  def xavier_init(self):\n",
        "    for linear in self.linears:\n",
        "      nn.init.xavier_normal_(linear.weight)\n",
        "      linear.bias.data.fill_(0.01)\n",
        "net=MLP(3072,10,100,4,'relu',0.1,True,True)"
      ],
      "metadata": {
        "id": "C4GDDQmda6JK"
      },
      "execution_count": 20,
      "outputs": []
    },
    {
      "cell_type": "code",
      "source": [
        "def train(net, partition, optimizer, criterion, args):\n",
        "  trainloader = torch.utils.data.DataLoader(partition['train'], batch_size=args.train_batch_size, shuffle=True, num_workers=2)\n",
        "  net.train()\n",
        "\n",
        "  correct=0\n",
        "  total=0\n",
        "  train_loss =0.0\n",
        "  for i, data in enumerate(trainloader, 0):\n",
        "    optimizer.zero_grad()\n",
        "    inputs, labels =data\n",
        "    inputs = inputs.view(-1,3072)\n",
        "    outputs = net(inputs)\n",
        "\n",
        "    loss = criterion(outputs, labels)\n",
        "    loss.backward()\n",
        "    optimizer.step()\n",
        "\n",
        "    train_loss +=loss.item()\n",
        "    _, predicted =torch.max(outputs.data,1)\n",
        "    total+=labels.size(0)\n",
        "    correct +=(predicted==labels).sum().item()\n",
        "  train_loss =train_loss/len(trainloader)\n",
        "  train_acc=100*correct/total\n",
        "  return net, train_loss, train_acc\n",
        "\n"
      ],
      "metadata": {
        "id": "9TgKtZrpa6Lz"
      },
      "execution_count": 6,
      "outputs": []
    },
    {
      "cell_type": "code",
      "source": [
        "def validate(net, partition, criterion, args):\n",
        "  valloader = torch.utils.data.DataLoader(partition['val'],batch_size=args.test_batch_size,shuffle=False,num_workers=2)\n",
        "  net.eval()\n",
        "\n",
        "  correct = 0\n",
        "  total = 0\n",
        "  val_loss = 0\n",
        "  with torch.no_grad():\n",
        "    for data in valloader:\n",
        "      images, labels =data\n",
        "      images = images.view(-1,3072)\n",
        "      outputs = net(images)\n",
        "\n",
        "      loss=criterion(outputs, labels)\n",
        "\n",
        "      val_loss +=loss.item()\n",
        "      _, predicted = torch.max(outputs.data,1)\n",
        "      total += labels.size(0)\n",
        "      correct += (predicted ==labels).sum().item()\n",
        "\n",
        "    val_loss = val_loss/len(valloader)\n",
        "    val_acc = 100*correct/total\n",
        "  return val_loss, val_acc"
      ],
      "metadata": {
        "id": "IJSumG_Pa6OV"
      },
      "execution_count": 28,
      "outputs": []
    },
    {
      "cell_type": "code",
      "source": [
        "def test(net, partition, args):\n",
        "  testloader = torch.utils.data.DataLoader(partition['test'],batch_size=args.test_batch_size, shuffle=False,num_workers=2)\n",
        "\n",
        "  net.eval()\n",
        "  correct = 0\n",
        "  total = 0\n",
        "  with torch.no_grad():\n",
        "    for data in testloader:\n",
        "      images,labels = data\n",
        "      images = images.view(-1, 3072)\n",
        "\n",
        "      outputs = net(images)\n",
        "      _, predicted = torch.max(outputs.data,1)\n",
        "      total+= labels.size(0)\n",
        "      correct +=(predicted ==labels).sum().item()\n",
        "    test_acc=100 * correct/ total\n",
        "  return test_acc"
      ],
      "metadata": {
        "id": "YByNwabya6Q1"
      },
      "execution_count": 8,
      "outputs": []
    },
    {
      "cell_type": "code",
      "source": [
        "def experiment(partition, args):\n",
        "  net=MLP(args.in_dim, args.out_dim, args.hid_dim, args.n_layer,  args.act,args.dropout,args.use_bn,args.use_xavier)\n",
        "\n",
        "  criterion = nn.CrossEntropyLoss()\n",
        "  if args.optim =='SGD':\n",
        "    optimizer = optim.RMSprop(net.parameters(), lr=args.lr,weight_decay=args.l2)\n",
        "  elif args.optim =='RMSprop':\n",
        "    optimizer = optim.RMSprop(net.parameters(),)\n",
        "  elif args.optim =='Adam':\n",
        "    optimizer =optim.Adam(net.parameters(), lr=args.lr, weight_decay=args.l2)\n",
        "  else:\n",
        "    raise ValueError('in-valid optimizer choice')\n",
        "  \n",
        "  for epoch in range(args.epoch):\n",
        "    ts = time.time()\n",
        "    net, train_loss, train_acc = train(net,partition, optimizer, criterion, args)\n",
        "    val_loss, val_acc = validate(net, partition, criterion, args)\n",
        "    te = time.time()\n",
        "    print('Epoch {}, Acc(train/val): {:2.2f}/{:2.2f}, Loss(train/val) {:2.2f}/{:2.2f}. Took {:2.2f} sec'.format(epoch, train_acc, val_acc, train_loss, val_loss, te-ts))\n",
        "  test_acc = test(net, partition, args)\n",
        "  return train_loss, val_loss, train_acc, val_acc,test_acc\n",
        "\n"
      ],
      "metadata": {
        "id": "Pz5mr5JHa6e7"
      },
      "execution_count": 11,
      "outputs": []
    },
    {
      "cell_type": "code",
      "source": [
        "seed = 123\n",
        "np.random.seed(seed)\n",
        "torch.manual_seed(seed)\n",
        "\n",
        "parser = argparse.ArgumentParser()\n",
        "args = parser.parse_args(\"\")\n",
        "\n",
        "args.in_dim = 3072\n",
        "args.out_dim = 10\n",
        "args.hid_dim = 100\n",
        "args.act = 'relu'\n",
        "\n",
        "args.dropout = 0.2\n",
        "args.use_bn = True\n",
        "args.l2 = 0.00001\n",
        "args.use_xavier = True\n",
        "\n",
        "args.optim = 'RMSprop' \n",
        "args.lr = 0.0015\n",
        "args.epoch = 10\n",
        "\n",
        "args.train_batch_size = 256\n",
        "args.test_batch_size = 1024\n",
        "\n",
        "name_var1 = 'n_layer'\n",
        "name_var2 = 'hid_dim'\n",
        "list_var1 = [3, 3, 4]\n",
        "list_var2 = [500, 300, 700]\n",
        "\n",
        "\n",
        "for var1 in list_var1:\n",
        "    for var2 in list_var2:\n",
        "        setattr(args, name_var1, var1)\n",
        "        setattr(args, name_var2, var2)\n",
        "        print(args)\n",
        "        result = experiment(partition, args)  "
      ],
      "metadata": {
        "colab": {
          "base_uri": "https://localhost:8080/"
        },
        "id": "Hr__NlrWa6ka",
        "outputId": "7efa99dc-d049-4c65-8c9b-f33f00405313"
      },
      "execution_count": null,
      "outputs": [
        {
          "output_type": "stream",
          "name": "stdout",
          "text": [
            "Namespace(act='relu', dropout=0.2, epoch=10, hid_dim=500, in_dim=3072, l2=1e-05, lr=0.0015, n_layer=3, optim='RMSprop', out_dim=10, test_batch_size=1024, train_batch_size=256, use_bn=True, use_xavier=True)\n",
            "Epoch 0, Acc(train/val): 27.82/30.60, Loss(train/val) 2.79/2.80. Took 19.74 sec\n",
            "Epoch 1, Acc(train/val): 37.91/33.96, Loss(train/val) 1.75/3.48. Took 19.64 sec\n",
            "Epoch 2, Acc(train/val): 42.93/38.65, Loss(train/val) 1.60/35.72. Took 19.68 sec\n",
            "Epoch 3, Acc(train/val): 45.55/39.73, Loss(train/val) 1.51/1.83. Took 19.80 sec\n",
            "Epoch 4, Acc(train/val): 48.34/41.98, Loss(train/val) 1.44/27.54. Took 19.76 sec\n",
            "Epoch 5, Acc(train/val): 50.92/43.46, Loss(train/val) 1.37/8.79. Took 19.57 sec\n",
            "Epoch 6, Acc(train/val): 53.45/43.41, Loss(train/val) 1.30/17.35. Took 19.44 sec\n",
            "Epoch 7, Acc(train/val): 55.63/47.89, Loss(train/val) 1.25/10.00. Took 19.67 sec\n",
            "Epoch 8, Acc(train/val): 54.40/46.47, Loss(train/val) 1.28/2.06. Took 19.58 sec\n",
            "Epoch 9, Acc(train/val): 56.64/46.08, Loss(train/val) 1.21/1.80. Took 19.49 sec\n",
            "Namespace(act='relu', dropout=0.2, epoch=10, hid_dim=300, in_dim=3072, l2=1e-05, lr=0.0015, n_layer=3, optim='RMSprop', out_dim=10, test_batch_size=1024, train_batch_size=256, use_bn=True, use_xavier=True)\n",
            "Epoch 0, Acc(train/val): 29.27/30.29, Loss(train/val) 2.33/2.26. Took 16.82 sec\n",
            "Epoch 1, Acc(train/val): 39.15/31.38, Loss(train/val) 1.69/10.40. Took 16.53 sec\n",
            "Epoch 2, Acc(train/val): 43.18/40.41, Loss(train/val) 1.58/1.92. Took 16.60 sec\n",
            "Epoch 3, Acc(train/val): 46.32/40.38, Loss(train/val) 1.49/2.90. Took 16.59 sec\n",
            "Epoch 4, Acc(train/val): 49.19/47.05, Loss(train/val) 1.41/1.76. Took 16.71 sec\n",
            "Epoch 5, Acc(train/val): 51.91/47.22, Loss(train/val) 1.35/2.89. Took 16.72 sec\n",
            "Epoch 6, Acc(train/val): 54.16/47.51, Loss(train/val) 1.29/1.51. Took 16.72 sec\n",
            "Epoch 7, Acc(train/val): 56.12/46.80, Loss(train/val) 1.24/1.55. Took 16.63 sec\n",
            "Epoch 8, Acc(train/val): 57.93/43.83, Loss(train/val) 1.18/1.74. Took 16.60 sec\n",
            "Epoch 9, Acc(train/val): 59.93/46.06, Loss(train/val) 1.13/1.68. Took 16.80 sec\n",
            "Namespace(act='relu', dropout=0.2, epoch=10, hid_dim=700, in_dim=3072, l2=1e-05, lr=0.0015, n_layer=3, optim='RMSprop', out_dim=10, test_batch_size=1024, train_batch_size=256, use_bn=True, use_xavier=True)\n",
            "Epoch 0, Acc(train/val): 27.04/28.19, Loss(train/val) 3.23/4.89. Took 23.34 sec\n",
            "Epoch 1, Acc(train/val): 36.16/37.26, Loss(train/val) 1.79/19.84. Took 23.16 sec\n",
            "Epoch 2, Acc(train/val): 41.01/38.60, Loss(train/val) 1.65/49.63. Took 24.02 sec\n",
            "Epoch 3, Acc(train/val): 44.65/37.54, Loss(train/val) 1.55/47.05. Took 23.21 sec\n",
            "Epoch 4, Acc(train/val): 47.23/42.21, Loss(train/val) 1.47/94.67. Took 23.11 sec\n",
            "Epoch 5, Acc(train/val): 50.55/41.36, Loss(train/val) 1.38/46.55. Took 23.21 sec\n",
            "Epoch 6, Acc(train/val): 52.85/43.46, Loss(train/val) 1.32/147.51. Took 23.20 sec\n",
            "Epoch 7, Acc(train/val): 54.94/41.27, Loss(train/val) 1.25/2.70. Took 23.14 sec\n",
            "Epoch 8, Acc(train/val): 57.31/45.54, Loss(train/val) 1.20/90.27. Took 23.04 sec\n",
            "Epoch 9, Acc(train/val): 59.28/49.38, Loss(train/val) 1.15/17.71. Took 23.12 sec\n",
            "Namespace(act='relu', dropout=0.2, epoch=10, hid_dim=500, in_dim=3072, l2=1e-05, lr=0.0015, n_layer=3, optim='RMSprop', out_dim=10, test_batch_size=1024, train_batch_size=256, use_bn=True, use_xavier=True)\n",
            "Epoch 0, Acc(train/val): 27.00/31.36, Loss(train/val) 2.86/5.56. Took 19.56 sec\n",
            "Epoch 1, Acc(train/val): 36.60/35.60, Loss(train/val) 1.77/11.57. Took 19.55 sec\n",
            "Epoch 2, Acc(train/val): 41.72/40.45, Loss(train/val) 1.62/10.80. Took 19.43 sec\n",
            "Epoch 3, Acc(train/val): 45.57/39.62, Loss(train/val) 1.52/5.26. Took 19.53 sec\n",
            "Epoch 4, Acc(train/val): 47.16/42.81, Loss(train/val) 1.47/19.44. Took 19.74 sec\n",
            "Epoch 5, Acc(train/val): 50.30/42.37, Loss(train/val) 1.38/9.85. Took 19.56 sec\n",
            "Epoch 6, Acc(train/val): 52.73/45.31, Loss(train/val) 1.32/18.50. Took 19.73 sec\n",
            "Epoch 7, Acc(train/val): 55.06/47.95, Loss(train/val) 1.26/1.84. Took 19.52 sec\n",
            "Epoch 8, Acc(train/val): 56.54/49.33, Loss(train/val) 1.21/2.26. Took 19.66 sec\n",
            "Epoch 9, Acc(train/val): 58.74/41.26, Loss(train/val) 1.16/2.12. Took 19.61 sec\n",
            "Namespace(act='relu', dropout=0.2, epoch=10, hid_dim=300, in_dim=3072, l2=1e-05, lr=0.0015, n_layer=3, optim='RMSprop', out_dim=10, test_batch_size=1024, train_batch_size=256, use_bn=True, use_xavier=True)\n",
            "Epoch 0, Acc(train/val): 29.02/27.95, Loss(train/val) 2.31/2.10. Took 16.62 sec\n",
            "Epoch 1, Acc(train/val): 39.47/35.26, Loss(train/val) 1.68/1.82. Took 16.69 sec\n",
            "Epoch 2, Acc(train/val): 44.37/40.01, Loss(train/val) 1.55/1.76. Took 16.51 sec\n",
            "Epoch 3, Acc(train/val): 47.62/41.80, Loss(train/val) 1.45/1.68. Took 16.57 sec\n",
            "Epoch 4, Acc(train/val): 50.76/43.17, Loss(train/val) 1.38/1.69. Took 16.58 sec\n",
            "Epoch 5, Acc(train/val): 52.63/45.76, Loss(train/val) 1.32/1.57. Took 16.62 sec\n",
            "Epoch 6, Acc(train/val): 54.81/49.34, Loss(train/val) 1.27/1.47. Took 16.76 sec\n"
          ]
        }
      ]
    },
    {
      "cell_type": "code",
      "source": [
        "seed = 123\n",
        "np.random.seed(seed)\n",
        "torch.manual_seed(seed)\n",
        "\n",
        "parser = argparse.ArgumentParser()\n",
        "args = parser.parse_args(\"\")\n",
        "\n",
        "args.in_dim = 3072\n",
        "args.out_dim = 10\n",
        "args.hid_dim = 100\n",
        "args.act = 'relu'\n",
        "\n",
        "args.dropout = 0.2\n",
        "args.use_bn = True\n",
        "args.l2 = 0.00001\n",
        "args.use_xavier = True\n",
        "\n",
        "args.optim = 'SGD' \n",
        "args.lr = 0.0015\n",
        "args.epoch = 10\n",
        "\n",
        "args.train_batch_size = 256\n",
        "args.test_batch_size = 1024\n",
        "\n",
        "name_var1 = 'n_layer'\n",
        "name_var2 = 'hid_dim'\n",
        "list_var1 = [3, 3, 4]\n",
        "list_var2 = [500, 300, 700]\n",
        "\n",
        "\n",
        "for var1 in list_var1:\n",
        "    for var2 in list_var2:\n",
        "        setattr(args, name_var1, var1)\n",
        "        setattr(args, name_var2, var2)\n",
        "        print(args)\n",
        "        result = experiment(partition, args)  "
      ],
      "metadata": {
        "id": "aQZwAZot0ehf"
      },
      "execution_count": null,
      "outputs": []
    },
    {
      "cell_type": "code",
      "source": [
        "seed = 123\n",
        "np.random.seed(seed)\n",
        "torch.manual_seed(seed)\n",
        "\n",
        "parser = argparse.ArgumentParser()\n",
        "args = parser.parse_args(\"\")\n",
        "\n",
        "args.in_dim = 3072\n",
        "args.out_dim = 10\n",
        "args.hid_dim = 100\n",
        "args.act = 'relu'\n",
        "\n",
        "args.dropout = 0.2\n",
        "args.use_bn = True\n",
        "args.l2 = 0.00001\n",
        "args.use_xavier = True\n",
        "\n",
        "args.optim = 'ADAM' \n",
        "args.lr = 0.0015\n",
        "args.epoch = 10\n",
        "\n",
        "args.train_batch_size = 256\n",
        "args.test_batch_size = 1024\n",
        "\n",
        "name_var1 = 'n_layer'\n",
        "name_var2 = 'hid_dim'\n",
        "list_var1 = [3, 3, 4]\n",
        "list_var2 = [500, 300, 700]\n",
        "\n",
        "\n",
        "for var1 in list_var1:\n",
        "    for var2 in list_var2:\n",
        "        setattr(args, name_var1, var1)\n",
        "        setattr(args, name_var2, var2)\n",
        "        print(args)\n",
        "        result = experiment(partition, args)  "
      ],
      "metadata": {
        "id": "1AVTIQX20jB5"
      },
      "execution_count": null,
      "outputs": []
    }
  ]
}